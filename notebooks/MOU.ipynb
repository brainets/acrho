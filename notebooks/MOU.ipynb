{
 "cells": [
  {
   "cell_type": "markdown",
   "metadata": {},
   "source": [
    "# Toy model for analysis of higher-order interdependencies (HOIs) generated using a MOU process\n",
    "\n",
    "This Python notebook generated network time series using a Multivariate Ornstein Uhlenbeck (MOU) model.\n",
    "\n",
    "We first use the MOU class to generate time series with a given connectivity and then analyse HOIs at multiple orders."
   ]
  },
  {
   "cell_type": "markdown",
   "metadata": {},
   "source": [
    "Import libraries and set global options for the simulation/estimation configuration."
   ]
  },
  {
   "cell_type": "code",
   "execution_count": 1,
   "metadata": {},
   "outputs": [],
   "source": [
    "import numpy as np\n",
    "import scipy.linalg as spl\n",
    "import scipy.stats as stt\n",
    "import matplotlib.pyplot as plt\n",
    "from frites.simulations import StimSpecAR\n",
    "import numpy as np\n",
    "import matplotlib.pyplot as plt\n",
    "from frites.core import gcmi_nd_cc, gccmi_nd_ccc, gcmi_1d_cc, gccmi_1d_ccc, copnorm_nd\n",
    "from frites import conn\n",
    "from scipy.stats import multivariate_normal\n",
    "import itertools\n",
    "\n",
    "try:\n",
    "    # import the pyMOU library if already installed\n",
    "    import pymou as pm\n",
    "    import pymou.tools as pmt\n",
    "except:\n",
    "    # install pyMOU from github and then import otherwhise\n",
    "    !pip install git+https://github.com/mb-BCA/pyMOU.git@master\n",
    "    import pymou as pm\n",
    "    import pymou.tools as pmt\n",
    "\n",
    "# Set to true if the network connectivity estimation is informed with the topology of the original connectivity\n",
    "use_topology = False"
   ]
  },
  {
   "cell_type": "markdown",
   "metadata": {},
   "source": [
    "## Simulation of multivariate time series using a MOU process"
   ]
  },
  {
   "cell_type": "code",
   "execution_count": 2,
   "metadata": {},
   "outputs": [],
   "source": [
    "N = 20 # number of nodes\n",
    "\n",
    "# masks for matrices (connectivity and covariance)\n",
    "mask_diag = np.eye(N, dtype=bool)\n",
    "mask_offdiag = np.logical_not(mask_diag)\n",
    "\n",
    "d = 0.5 # density of connectivity\n",
    "\n",
    "# generate random matrix for original connectivity\n",
    "C_orig = pmt.make_rnd_connectivity(N, density=d, w_min=-1/N/d, w_max=1/N/d)\n",
    "\n",
    "# generate diagonal matrix with inhomogeneous values for input covariances\n",
    "Sigma_orig = np.eye(N) * 0.5\n",
    "\n",
    "# create MOU process with C_orig and Sigma_orig\n",
    "mou_orig = pm.MOU(C=C_orig, Sigma=Sigma_orig)\n",
    "\n",
    "# simulate\n",
    "T = 500 # time in seconds\n",
    "ts_sim = mou_orig.simulate(T)"
   ]
  }
 ],
 "metadata": {
  "kernelspec": {
   "display_name": "base",
   "language": "python",
   "name": "python3"
  },
  "language_info": {
   "codemirror_mode": {
    "name": "ipython",
    "version": 3
   },
   "file_extension": ".py",
   "mimetype": "text/x-python",
   "name": "python",
   "nbconvert_exporter": "python",
   "pygments_lexer": "ipython3",
   "version": "3.9.16"
  },
  "orig_nbformat": 4
 },
 "nbformat": 4,
 "nbformat_minor": 2
}
