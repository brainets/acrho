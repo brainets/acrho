{
 "cells": [
  {
   "cell_type": "code",
   "execution_count": 2,
   "id": "e4c0aca7",
   "metadata": {},
   "outputs": [],
   "source": [
    "import numpy as np\n",
    "import matplotlib.pylab as plt\n",
    "import pandas as pd"
   ]
  },
  {
   "cell_type": "code",
   "execution_count": 6,
   "id": "0a84f35e",
   "metadata": {},
   "outputs": [],
   "source": [
    "df = pd.read_pickle('data.pkl')"
   ]
  },
  {
   "cell_type": "code",
   "execution_count": 7,
   "id": "c62fdeec",
   "metadata": {},
   "outputs": [
    {
     "data": {
      "text/html": [
       "<div>\n",
       "<style scoped>\n",
       "    .dataframe tbody tr th:only-of-type {\n",
       "        vertical-align: middle;\n",
       "    }\n",
       "\n",
       "    .dataframe tbody tr th {\n",
       "        vertical-align: top;\n",
       "    }\n",
       "\n",
       "    .dataframe thead th {\n",
       "        text-align: right;\n",
       "    }\n",
       "</style>\n",
       "<table border=\"1\" class=\"dataframe\">\n",
       "  <thead>\n",
       "    <tr style=\"text-align: right;\">\n",
       "      <th></th>\n",
       "      <th>t_spike_exc</th>\n",
       "      <th>index_spike_exc</th>\n",
       "      <th>t_spike_inh</th>\n",
       "      <th>index_spike_inh</th>\n",
       "    </tr>\n",
       "  </thead>\n",
       "  <tbody>\n",
       "    <tr>\n",
       "      <th>0</th>\n",
       "      <td>[0.043144, 0.049252, 0.06034, 0.063116, 0.0633...</td>\n",
       "      <td>[7, 63, 28, 35, 41, 31, 8, 70, 13, 3, 10, 36, ...</td>\n",
       "      <td>[0.023316, 0.02332, 0.035192, 0.043832, 0.0497...</td>\n",
       "      <td>[87, 90, 86, 87, 92, 85, 88, 87, 81, 80, 93, 8...</td>\n",
       "    </tr>\n",
       "    <tr>\n",
       "      <th>1</th>\n",
       "      <td>[0.028612, 0.036628, 0.037804, 0.040392, 0.041...</td>\n",
       "      <td>[58, 70, 39, 0, 17, 5, 7, 45, 36, 13, 31, 35, ...</td>\n",
       "      <td>[0.024116, 0.024912, 0.029428, 0.039888, 0.042...</td>\n",
       "      <td>[98, 81, 96, 95, 80, 87, 93, 81, 99, 87, 89, 8...</td>\n",
       "    </tr>\n",
       "    <tr>\n",
       "      <th>2</th>\n",
       "      <td>[0.02576, 0.0321, 0.032556, 0.033092, 0.035932...</td>\n",
       "      <td>[75, 54, 73, 72, 14, 49, 10, 6, 46, 36, 7, 65,...</td>\n",
       "      <td>[0.022632, 0.029288, 0.035276, 0.03718, 0.0373...</td>\n",
       "      <td>[96, 80, 82, 90, 85, 92, 80, 88, 95, 98, 93, 8...</td>\n",
       "    </tr>\n",
       "    <tr>\n",
       "      <th>3</th>\n",
       "      <td>[0.023816, 0.027584, 0.028404, 0.02926, 0.0303...</td>\n",
       "      <td>[10, 43, 38, 41, 67, 16, 32, 34, 53, 31, 62, 2...</td>\n",
       "      <td>[0.0265, 0.029168, 0.030632, 0.031412, 0.03418...</td>\n",
       "      <td>[88, 83, 91, 80, 82, 81, 92, 89, 87, 80, 95, 8...</td>\n",
       "    </tr>\n",
       "    <tr>\n",
       "      <th>4</th>\n",
       "      <td>[0.021208, 0.021932, 0.02314, 0.023392, 0.0238...</td>\n",
       "      <td>[68, 36, 46, 55, 8, 34, 19, 26, 12, 31, 56, 6,...</td>\n",
       "      <td>[0.024256, 0.024748, 0.024928, 0.025292, 0.028...</td>\n",
       "      <td>[82, 86, 80, 98, 90, 97, 93, 92, 91, 80, 90, 8...</td>\n",
       "    </tr>\n",
       "    <tr>\n",
       "      <th>...</th>\n",
       "      <td>...</td>\n",
       "      <td>...</td>\n",
       "      <td>...</td>\n",
       "      <td>...</td>\n",
       "    </tr>\n",
       "    <tr>\n",
       "      <th>195</th>\n",
       "      <td>[0.031844, 0.03254, 0.034408, 0.034912, 0.0352...</td>\n",
       "      <td>[24, 63, 58, 4, 59, 71, 14, 43, 51, 3, 26, 50,...</td>\n",
       "      <td>[0.02264, 0.022744, 0.034072, 0.034188, 0.0375...</td>\n",
       "      <td>[86, 83, 90, 82, 99, 80, 96, 87, 83, 95, 94, 8...</td>\n",
       "    </tr>\n",
       "    <tr>\n",
       "      <th>196</th>\n",
       "      <td>[0.04864, 0.050488, 0.05286, 0.053428, 0.05377...</td>\n",
       "      <td>[66, 35, 33, 56, 64, 65, 5, 72, 17, 25, 62, 10...</td>\n",
       "      <td>[0.019876, 0.023928, 0.03052, 0.031564, 0.0436...</td>\n",
       "      <td>[95, 81, 83, 80, 84, 81, 89, 91, 90, 80, 94, 8...</td>\n",
       "    </tr>\n",
       "    <tr>\n",
       "      <th>197</th>\n",
       "      <td>[0.020372, 0.022792, 0.030128, 0.033012, 0.033...</td>\n",
       "      <td>[35, 13, 6, 28, 66, 64, 46, 68, 26, 56, 63, 74...</td>\n",
       "      <td>[0.021164, 0.022908, 0.027588, 0.036404, 0.037...</td>\n",
       "      <td>[89, 99, 80, 86, 91, 94, 83, 80, 92, 88, 85, 9...</td>\n",
       "    </tr>\n",
       "    <tr>\n",
       "      <th>198</th>\n",
       "      <td>[0.026868, 0.02894, 0.030696, 0.031172, 0.0341...</td>\n",
       "      <td>[73, 25, 39, 75, 45, 44, 63, 20, 29, 23, 35, 7...</td>\n",
       "      <td>[0.025044, 0.031668, 0.032244, 0.036092, 0.038...</td>\n",
       "      <td>[83, 89, 87, 80, 85, 91, 99, 97, 94, 81, 96, 8...</td>\n",
       "    </tr>\n",
       "    <tr>\n",
       "      <th>199</th>\n",
       "      <td>[0.02682, 0.026872, 0.026884, 0.029328, 0.0310...</td>\n",
       "      <td>[60, 23, 66, 26, 59, 35, 8, 13, 42, 36, 39, 37...</td>\n",
       "      <td>[0.026588, 0.027412, 0.031304, 0.031544, 0.032...</td>\n",
       "      <td>[96, 81, 85, 95, 80, 99, 90, 94, 80, 96, 98, 9...</td>\n",
       "    </tr>\n",
       "  </tbody>\n",
       "</table>\n",
       "<p>200 rows × 4 columns</p>\n",
       "</div>"
      ],
      "text/plain": [
       "                                           t_spike_exc  \\\n",
       "0    [0.043144, 0.049252, 0.06034, 0.063116, 0.0633...   \n",
       "1    [0.028612, 0.036628, 0.037804, 0.040392, 0.041...   \n",
       "2    [0.02576, 0.0321, 0.032556, 0.033092, 0.035932...   \n",
       "3    [0.023816, 0.027584, 0.028404, 0.02926, 0.0303...   \n",
       "4    [0.021208, 0.021932, 0.02314, 0.023392, 0.0238...   \n",
       "..                                                 ...   \n",
       "195  [0.031844, 0.03254, 0.034408, 0.034912, 0.0352...   \n",
       "196  [0.04864, 0.050488, 0.05286, 0.053428, 0.05377...   \n",
       "197  [0.020372, 0.022792, 0.030128, 0.033012, 0.033...   \n",
       "198  [0.026868, 0.02894, 0.030696, 0.031172, 0.0341...   \n",
       "199  [0.02682, 0.026872, 0.026884, 0.029328, 0.0310...   \n",
       "\n",
       "                                       index_spike_exc  \\\n",
       "0    [7, 63, 28, 35, 41, 31, 8, 70, 13, 3, 10, 36, ...   \n",
       "1    [58, 70, 39, 0, 17, 5, 7, 45, 36, 13, 31, 35, ...   \n",
       "2    [75, 54, 73, 72, 14, 49, 10, 6, 46, 36, 7, 65,...   \n",
       "3    [10, 43, 38, 41, 67, 16, 32, 34, 53, 31, 62, 2...   \n",
       "4    [68, 36, 46, 55, 8, 34, 19, 26, 12, 31, 56, 6,...   \n",
       "..                                                 ...   \n",
       "195  [24, 63, 58, 4, 59, 71, 14, 43, 51, 3, 26, 50,...   \n",
       "196  [66, 35, 33, 56, 64, 65, 5, 72, 17, 25, 62, 10...   \n",
       "197  [35, 13, 6, 28, 66, 64, 46, 68, 26, 56, 63, 74...   \n",
       "198  [73, 25, 39, 75, 45, 44, 63, 20, 29, 23, 35, 7...   \n",
       "199  [60, 23, 66, 26, 59, 35, 8, 13, 42, 36, 39, 37...   \n",
       "\n",
       "                                           t_spike_inh  \\\n",
       "0    [0.023316, 0.02332, 0.035192, 0.043832, 0.0497...   \n",
       "1    [0.024116, 0.024912, 0.029428, 0.039888, 0.042...   \n",
       "2    [0.022632, 0.029288, 0.035276, 0.03718, 0.0373...   \n",
       "3    [0.0265, 0.029168, 0.030632, 0.031412, 0.03418...   \n",
       "4    [0.024256, 0.024748, 0.024928, 0.025292, 0.028...   \n",
       "..                                                 ...   \n",
       "195  [0.02264, 0.022744, 0.034072, 0.034188, 0.0375...   \n",
       "196  [0.019876, 0.023928, 0.03052, 0.031564, 0.0436...   \n",
       "197  [0.021164, 0.022908, 0.027588, 0.036404, 0.037...   \n",
       "198  [0.025044, 0.031668, 0.032244, 0.036092, 0.038...   \n",
       "199  [0.026588, 0.027412, 0.031304, 0.031544, 0.032...   \n",
       "\n",
       "                                       index_spike_inh  \n",
       "0    [87, 90, 86, 87, 92, 85, 88, 87, 81, 80, 93, 8...  \n",
       "1    [98, 81, 96, 95, 80, 87, 93, 81, 99, 87, 89, 8...  \n",
       "2    [96, 80, 82, 90, 85, 92, 80, 88, 95, 98, 93, 8...  \n",
       "3    [88, 83, 91, 80, 82, 81, 92, 89, 87, 80, 95, 8...  \n",
       "4    [82, 86, 80, 98, 90, 97, 93, 92, 91, 80, 90, 8...  \n",
       "..                                                 ...  \n",
       "195  [86, 83, 90, 82, 99, 80, 96, 87, 83, 95, 94, 8...  \n",
       "196  [95, 81, 83, 80, 84, 81, 89, 91, 90, 80, 94, 8...  \n",
       "197  [89, 99, 80, 86, 91, 94, 83, 80, 92, 88, 85, 9...  \n",
       "198  [83, 89, 87, 80, 85, 91, 99, 97, 94, 81, 96, 8...  \n",
       "199  [96, 81, 85, 95, 80, 99, 90, 94, 80, 96, 98, 9...  \n",
       "\n",
       "[200 rows x 4 columns]"
      ]
     },
     "execution_count": 7,
     "metadata": {},
     "output_type": "execute_result"
    }
   ],
   "source": [
    "df "
   ]
  },
  {
   "cell_type": "code",
   "execution_count": 8,
   "id": "068eb322",
   "metadata": {},
   "outputs": [],
   "source": [
    "time_raster_exc = df.at[0, 't_spike_exc']\n",
    "exc_spike= df.at[0, 'index_spike_exc']\n",
    "time_raster_inh= df.at[0, 't_spike_inh']\n",
    "inh_spike= df.at[0, 'index_spike_inh']"
   ]
  },
  {
   "cell_type": "code",
   "execution_count": 10,
   "id": "f60a4aa5",
   "metadata": {},
   "outputs": [
    {
     "data": {
      "image/png": "[encoded data removed]",
      "text/plain": [
       "<Figure size 1008x504 with 1 Axes>"
      ]
     },
     "metadata": {
      "needs_background": "light"
     },
     "output_type": "display_data"
    }
   ],
   "source": [
    "FIG=  []\n",
    "fig=plt.figure(figsize=(14,7))\n",
    "plt.scatter(time_raster_exc,exc_spike, s=2,color='red')\n",
    "plt.scatter(time_raster_inh,inh_spike, s=2,color='blue')\n",
    "\n",
    "\n",
    "plt.xlabel(r\"$time \\ \\ (ms) $\",fontsize=25)\n",
    "plt.ylabel(r\"$Neuron \\ \\ $\",fontsize=25)\n",
    "plt.show()\n"
   ]
  },
  {
   "cell_type": "code",
   "execution_count": null,
   "id": "855041d0",
   "metadata": {},
   "outputs": [],
   "source": []
  },
  {
   "cell_type": "code",
   "execution_count": null,
   "id": "91c3d1e2",
   "metadata": {},
   "outputs": [],
   "source": []
  }
 ],
 "metadata": {
  "kernelspec": {
   "display_name": "Python 3 (ipykernel)",
   "language": "python",
   "name": "python3"
  },
  "language_info": {
   "codemirror_mode": {
    "name": "ipython",
    "version": 3
   },
   "file_extension": ".py",
   "mimetype": "text/x-python",
   "name": "python",
   "nbconvert_exporter": "python",
   "pygments_lexer": "ipython3",
   "version": "3.8.12"
  }
 },
 "nbformat": 4,
 "nbformat_minor": 5
}
