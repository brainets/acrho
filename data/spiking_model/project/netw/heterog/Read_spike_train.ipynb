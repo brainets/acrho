{
 "cells": [
  {
   "cell_type": "code",
   "execution_count": 1,
   "id": "e4c0aca7",
   "metadata": {},
   "outputs": [],
   "source": [
    "import numpy as np\n",
    "import matplotlib.pylab as plt\n",
    "import pandas as pd"
   ]
  },
  {
   "cell_type": "code",
   "execution_count": 2,
   "id": "0a84f35e",
   "metadata": {},
   "outputs": [],
   "source": [
    "df = pd.read_pickle('data.pkl')"
   ]
  },
  {
   "cell_type": "code",
   "execution_count": 3,
   "id": "c62fdeec",
   "metadata": {},
   "outputs": [
    {
     "data": {
      "text/html": [
       "<div>\n",
       "<style scoped>\n",
       "    .dataframe tbody tr th:only-of-type {\n",
       "        vertical-align: middle;\n",
       "    }\n",
       "\n",
       "    .dataframe tbody tr th {\n",
       "        vertical-align: top;\n",
       "    }\n",
       "\n",
       "    .dataframe thead th {\n",
       "        text-align: right;\n",
       "    }\n",
       "</style>\n",
       "<table border=\"1\" class=\"dataframe\">\n",
       "  <thead>\n",
       "    <tr style=\"text-align: right;\">\n",
       "      <th></th>\n",
       "      <th>t_spike_exc</th>\n",
       "      <th>index_spike_exc</th>\n",
       "      <th>t_spike_inh</th>\n",
       "      <th>index_spike_inh</th>\n",
       "    </tr>\n",
       "  </thead>\n",
       "  <tbody>\n",
       "    <tr>\n",
       "      <th>0</th>\n",
       "      <td>[0.118868, 0.127284, 0.128208, 0.132516, 0.143...</td>\n",
       "      <td>[49, 48, 3, 26, 8, 67, 57, 5, 78, 34, 42, 58, ...</td>\n",
       "      <td>[0.019572, 0.020812, 0.02562, 0.033816, 0.0338...</td>\n",
       "      <td>[88, 85, 84, 80, 88, 84, 88, 98, 85, 88, 84, 8...</td>\n",
       "    </tr>\n",
       "    <tr>\n",
       "      <th>1</th>\n",
       "      <td>[0.067412, 0.10848, 0.111292, 0.111428, 0.1131...</td>\n",
       "      <td>[68, 72, 37, 63, 48, 38, 44, 66, 40, 74, 4, 35...</td>\n",
       "      <td>[0.015496, 0.015752, 0.01808, 0.025968, 0.0306...</td>\n",
       "      <td>[85, 88, 98, 84, 88, 80, 85, 88, 84, 88, 98, 8...</td>\n",
       "    </tr>\n",
       "    <tr>\n",
       "      <th>2</th>\n",
       "      <td>[0.073716, 0.213344, 0.221948, 0.22702, 0.2348...</td>\n",
       "      <td>[63, 5, 76, 19, 35, 4, 36, 55, 8, 2, 1, 52, 18...</td>\n",
       "      <td>[0.015608, 0.020848, 0.027224, 0.029848, 0.034...</td>\n",
       "      <td>[88, 84, 85, 88, 84, 98, 88, 85, 88, 85, 84, 8...</td>\n",
       "    </tr>\n",
       "    <tr>\n",
       "      <th>3</th>\n",
       "      <td>[0.037504, 0.056888, 0.057224, 0.057896, 0.060...</td>\n",
       "      <td>[78, 44, 64, 46, 5, 22, 20, 10, 34, 47, 1, 49,...</td>\n",
       "      <td>[0.016812, 0.017228, 0.022788, 0.028876, 0.037...</td>\n",
       "      <td>[88, 85, 84, 88, 84, 85, 90, 88, 98, 88, 80, 8...</td>\n",
       "    </tr>\n",
       "    <tr>\n",
       "      <th>4</th>\n",
       "      <td>[0.026832, 0.049476, 0.075992, 0.081004, 0.083...</td>\n",
       "      <td>[74, 63, 30, 36, 76, 70, 54, 3, 58, 15, 55, 71...</td>\n",
       "      <td>[0.01368, 0.021592, 0.027616, 0.02902, 0.03078...</td>\n",
       "      <td>[88, 85, 84, 88, 90, 80, 85, 88, 84, 85, 88, 9...</td>\n",
       "    </tr>\n",
       "    <tr>\n",
       "      <th>...</th>\n",
       "      <td>...</td>\n",
       "      <td>...</td>\n",
       "      <td>...</td>\n",
       "      <td>...</td>\n",
       "    </tr>\n",
       "    <tr>\n",
       "      <th>195</th>\n",
       "      <td>[0.116704, 0.118936, 0.148428, 0.178332, 0.229...</td>\n",
       "      <td>[44, 31, 30, 53, 32, 23, 14, 5, 38, 63, 59, 46...</td>\n",
       "      <td>[0.016612, 0.016792, 0.01952, 0.02266, 0.03252...</td>\n",
       "      <td>[98, 88, 84, 85, 98, 88, 85, 84, 88, 90, 85, 9...</td>\n",
       "    </tr>\n",
       "    <tr>\n",
       "      <th>196</th>\n",
       "      <td>[0.056924, 0.06966, 0.075528, 0.077528, 0.0838...</td>\n",
       "      <td>[29, 44, 53, 54, 18, 54, 5, 77, 68, 31, 40, 9,...</td>\n",
       "      <td>[0.015808, 0.01728, 0.026676, 0.031984, 0.0382...</td>\n",
       "      <td>[85, 88, 84, 88, 85, 84, 88, 85, 88, 84, 88, 8...</td>\n",
       "    </tr>\n",
       "    <tr>\n",
       "      <th>197</th>\n",
       "      <td>[0.062836, 0.100808, 0.104408, 0.155312, 0.174...</td>\n",
       "      <td>[26, 24, 64, 43, 59, 72, 27, 71, 17, 2, 68, 40...</td>\n",
       "      <td>[0.017172, 0.018356, 0.026076, 0.027744, 0.034...</td>\n",
       "      <td>[88, 84, 85, 98, 88, 80, 85, 84, 88, 85, 88, 8...</td>\n",
       "    </tr>\n",
       "    <tr>\n",
       "      <th>198</th>\n",
       "      <td>[0.030192, 0.075704, 0.096328, 0.116632, 0.123...</td>\n",
       "      <td>[27, 78, 19, 29, 55, 47, 6, 53, 70, 71, 51, 23...</td>\n",
       "      <td>[0.016596, 0.017332, 0.01938, 0.026864, 0.0309...</td>\n",
       "      <td>[88, 84, 85, 98, 88, 84, 85, 90, 88, 98, 84, 8...</td>\n",
       "    </tr>\n",
       "    <tr>\n",
       "      <th>199</th>\n",
       "      <td>[0.031976, 0.032124, 0.0741, 0.153708, 0.17052...</td>\n",
       "      <td>[79, 28, 25, 49, 32, 65, 27, 40, 60, 34, 33, 4...</td>\n",
       "      <td>[0.016064, 0.01658, 0.024572, 0.031072, 0.0325...</td>\n",
       "      <td>[88, 84, 85, 98, 88, 84, 80, 85, 88, 88, 85, 9...</td>\n",
       "    </tr>\n",
       "  </tbody>\n",
       "</table>\n",
       "<p>200 rows × 4 columns</p>\n",
       "</div>"
      ],
      "text/plain": [
       "                                           t_spike_exc  \\\n",
       "0    [0.118868, 0.127284, 0.128208, 0.132516, 0.143...   \n",
       "1    [0.067412, 0.10848, 0.111292, 0.111428, 0.1131...   \n",
       "2    [0.073716, 0.213344, 0.221948, 0.22702, 0.2348...   \n",
       "3    [0.037504, 0.056888, 0.057224, 0.057896, 0.060...   \n",
       "4    [0.026832, 0.049476, 0.075992, 0.081004, 0.083...   \n",
       "..                                                 ...   \n",
       "195  [0.116704, 0.118936, 0.148428, 0.178332, 0.229...   \n",
       "196  [0.056924, 0.06966, 0.075528, 0.077528, 0.0838...   \n",
       "197  [0.062836, 0.100808, 0.104408, 0.155312, 0.174...   \n",
       "198  [0.030192, 0.075704, 0.096328, 0.116632, 0.123...   \n",
       "199  [0.031976, 0.032124, 0.0741, 0.153708, 0.17052...   \n",
       "\n",
       "                                       index_spike_exc  \\\n",
       "0    [49, 48, 3, 26, 8, 67, 57, 5, 78, 34, 42, 58, ...   \n",
       "1    [68, 72, 37, 63, 48, 38, 44, 66, 40, 74, 4, 35...   \n",
       "2    [63, 5, 76, 19, 35, 4, 36, 55, 8, 2, 1, 52, 18...   \n",
       "3    [78, 44, 64, 46, 5, 22, 20, 10, 34, 47, 1, 49,...   \n",
       "4    [74, 63, 30, 36, 76, 70, 54, 3, 58, 15, 55, 71...   \n",
       "..                                                 ...   \n",
       "195  [44, 31, 30, 53, 32, 23, 14, 5, 38, 63, 59, 46...   \n",
       "196  [29, 44, 53, 54, 18, 54, 5, 77, 68, 31, 40, 9,...   \n",
       "197  [26, 24, 64, 43, 59, 72, 27, 71, 17, 2, 68, 40...   \n",
       "198  [27, 78, 19, 29, 55, 47, 6, 53, 70, 71, 51, 23...   \n",
       "199  [79, 28, 25, 49, 32, 65, 27, 40, 60, 34, 33, 4...   \n",
       "\n",
       "                                           t_spike_inh  \\\n",
       "0    [0.019572, 0.020812, 0.02562, 0.033816, 0.0338...   \n",
       "1    [0.015496, 0.015752, 0.01808, 0.025968, 0.0306...   \n",
       "2    [0.015608, 0.020848, 0.027224, 0.029848, 0.034...   \n",
       "3    [0.016812, 0.017228, 0.022788, 0.028876, 0.037...   \n",
       "4    [0.01368, 0.021592, 0.027616, 0.02902, 0.03078...   \n",
       "..                                                 ...   \n",
       "195  [0.016612, 0.016792, 0.01952, 0.02266, 0.03252...   \n",
       "196  [0.015808, 0.01728, 0.026676, 0.031984, 0.0382...   \n",
       "197  [0.017172, 0.018356, 0.026076, 0.027744, 0.034...   \n",
       "198  [0.016596, 0.017332, 0.01938, 0.026864, 0.0309...   \n",
       "199  [0.016064, 0.01658, 0.024572, 0.031072, 0.0325...   \n",
       "\n",
       "                                       index_spike_inh  \n",
       "0    [88, 85, 84, 80, 88, 84, 88, 98, 85, 88, 84, 8...  \n",
       "1    [85, 88, 98, 84, 88, 80, 85, 88, 84, 88, 98, 8...  \n",
       "2    [88, 84, 85, 88, 84, 98, 88, 85, 88, 85, 84, 8...  \n",
       "3    [88, 85, 84, 88, 84, 85, 90, 88, 98, 88, 80, 8...  \n",
       "4    [88, 85, 84, 88, 90, 80, 85, 88, 84, 85, 88, 9...  \n",
       "..                                                 ...  \n",
       "195  [98, 88, 84, 85, 98, 88, 85, 84, 88, 90, 85, 9...  \n",
       "196  [85, 88, 84, 88, 85, 84, 88, 85, 88, 84, 88, 8...  \n",
       "197  [88, 84, 85, 98, 88, 80, 85, 84, 88, 85, 88, 8...  \n",
       "198  [88, 84, 85, 98, 88, 84, 85, 90, 88, 98, 84, 8...  \n",
       "199  [88, 84, 85, 98, 88, 84, 80, 85, 88, 88, 85, 9...  \n",
       "\n",
       "[200 rows x 4 columns]"
      ]
     },
     "execution_count": 3,
     "metadata": {},
     "output_type": "execute_result"
    }
   ],
   "source": [
    "df "
   ]
  },
  {
   "cell_type": "code",
   "execution_count": 6,
   "id": "068eb322",
   "metadata": {},
   "outputs": [],
   "source": [
    "time_raster_exc = df.at[1, 't_spike_exc']\n",
    "exc_spike= df.at[1, 'index_spike_exc']\n",
    "time_raster_inh= df.at[1, 't_spike_inh']\n",
    "inh_spike= df.at[1, 'index_spike_inh']"
   ]
  },
  {
   "cell_type": "code",
   "execution_count": 7,
   "id": "f60a4aa5",
   "metadata": {},
   "outputs": [
    {
     "data": {
      "image/png": "[encoded data removed]",
      "text/plain": [
       "<Figure size 1008x504 with 1 Axes>"
      ]
     },
     "metadata": {
      "needs_background": "light"
     },
     "output_type": "display_data"
    }
   ],
   "source": [
    "FIG=  []\n",
    "fig=plt.figure(figsize=(14,7))\n",
    "plt.scatter(time_raster_exc,exc_spike, s=2,color='red')\n",
    "plt.scatter(time_raster_inh,inh_spike, s=2,color='blue')\n",
    "\n",
    "\n",
    "plt.xlabel(r\"$time \\ \\ (ms) $\",fontsize=25)\n",
    "plt.ylabel(r\"$Neuron \\ \\ $\",fontsize=25)\n",
    "plt.show()\n"
   ]
  },
  {
   "cell_type": "code",
   "execution_count": null,
   "id": "855041d0",
   "metadata": {},
   "outputs": [],
   "source": []
  },
  {
   "cell_type": "code",
   "execution_count": null,
   "id": "91c3d1e2",
   "metadata": {},
   "outputs": [],
   "source": []
  }
 ],
 "metadata": {
  "kernelspec": {
   "display_name": "Python 3 (ipykernel)",
   "language": "python",
   "name": "python3"
  },
  "language_info": {
   "codemirror_mode": {
    "name": "ipython",
    "version": 3
   },
   "file_extension": ".py",
   "mimetype": "text/x-python",
   "name": "python",
   "nbconvert_exporter": "python",
   "pygments_lexer": "ipython3",
   "version": "3.8.12"
  }
 },
 "nbformat": 4,
 "nbformat_minor": 5
}
